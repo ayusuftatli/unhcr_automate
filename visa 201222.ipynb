{
 "cells": [
  {
   "cell_type": "code",
   "execution_count": 1,
   "id": "4c512e38-50fe-401c-9fa7-463d5538f738",
   "metadata": {},
   "outputs": [],
   "source": [
    "import pandas as pd\n",
    "import glob\n",
    "import os\n",
    "import re\n",
    "import numpy as np\n",
    "import seaborn as sns\n",
    "import matplotlib.pyplot as plt\n",
    "import warnings\n",
    "warnings.filterwarnings('ignore')\n",
    "import re\n",
    "import pycountry"
   ]
  },
  {
   "cell_type": "markdown",
   "id": "ce55776b-4a5e-4881-b597-a17a134c0d1a",
   "metadata": {},
   "source": [
    "European Comission stores the data about Schengen Visa on seperate excel files for each year. After downloading them I append them together. But the column names and sheet names of excel files for 2012 and 2013 different, and 2012 has an additional column. I will treat them later. First the non-problematic ones:"
   ]
  },
  {
   "cell_type": "code",
   "execution_count": 2,
   "id": "8eb6773f-ec8f-4e6e-839f-0d5eccb7d552",
   "metadata": {},
   "outputs": [],
   "source": [
    "df = pd.DataFrame()\n",
    "for f in glob.glob(r'C:\\Users\\Esprimo Q920\\Desktop\\schengen_visa\\*.xlsx'):\n",
    "    data = pd.read_excel(f, sheet_name='Data for consulates')\n",
    "    data['year'] = int(re.findall(r'.*([1-3][0-9]{3})', f)[0])\n",
    "    df = df.append(data,ignore_index=True)"
   ]
  },
  {
   "cell_type": "code",
   "execution_count": 3,
   "id": "449226a6-1d8d-427f-a27c-44cf660ebf3c",
   "metadata": {},
   "outputs": [
    {
     "data": {
      "text/html": [
       "<div>\n",
       "<style scoped>\n",
       "    .dataframe tbody tr th:only-of-type {\n",
       "        vertical-align: middle;\n",
       "    }\n",
       "\n",
       "    .dataframe tbody tr th {\n",
       "        vertical-align: top;\n",
       "    }\n",
       "\n",
       "    .dataframe thead th {\n",
       "        text-align: right;\n",
       "    }\n",
       "</style>\n",
       "<table border=\"1\" class=\"dataframe\">\n",
       "  <thead>\n",
       "    <tr style=\"text-align: right;\">\n",
       "      <th></th>\n",
       "      <th>Schengen State</th>\n",
       "      <th>Country where consulate is located</th>\n",
       "      <th>Consulate</th>\n",
       "      <th>Airport transit visas (ATVs) applied for</th>\n",
       "      <th>ATVs issued (including multiple)</th>\n",
       "      <th>Multiple ATVs issued</th>\n",
       "      <th>ATVs not issued</th>\n",
       "      <th>Not issued rate for ATVs</th>\n",
       "      <th>Uniform visas applied for</th>\n",
       "      <th>Total  uniform visas issued (including MEV) \\n</th>\n",
       "      <th>Multiple entry uniform visas (MEVs) issued</th>\n",
       "      <th>Share of MEVs on total number of uniform visas issued</th>\n",
       "      <th>Total LTVs issued</th>\n",
       "      <th>Uniform visas not issued</th>\n",
       "      <th>Not issued rate for uniform visas</th>\n",
       "      <th>Total ATVs and uniform visas applied for</th>\n",
       "      <th>Total ATVs and uniform visas issued  (including multiple ATVs, MEVs and LTVs)</th>\n",
       "      <th>Total ATVs and uniform visas not issued</th>\n",
       "      <th>Not issued rate for ATVs and uniform visas</th>\n",
       "      <th>year</th>\n",
       "    </tr>\n",
       "  </thead>\n",
       "  <tbody>\n",
       "    <tr>\n",
       "      <th>0</th>\n",
       "      <td>Finland</td>\n",
       "      <td>RUSSIAN FEDERATION</td>\n",
       "      <td>ST. PETERSBURG</td>\n",
       "      <td>NaN</td>\n",
       "      <td>NaN</td>\n",
       "      <td>NaN</td>\n",
       "      <td>NaN</td>\n",
       "      <td>NaN</td>\n",
       "      <td>914314.0</td>\n",
       "      <td>908145.0</td>\n",
       "      <td>895849.0</td>\n",
       "      <td>0.986460</td>\n",
       "      <td>14.0</td>\n",
       "      <td>6155.0</td>\n",
       "      <td>0.006732</td>\n",
       "      <td>914314.0</td>\n",
       "      <td>908159.0</td>\n",
       "      <td>6155.0</td>\n",
       "      <td>0.006732</td>\n",
       "      <td>2014</td>\n",
       "    </tr>\n",
       "    <tr>\n",
       "      <th>1</th>\n",
       "      <td>Spain</td>\n",
       "      <td>RUSSIAN FEDERATION</td>\n",
       "      <td>MOSCOW</td>\n",
       "      <td>1.0</td>\n",
       "      <td>0.0</td>\n",
       "      <td>0.0</td>\n",
       "      <td>1.0</td>\n",
       "      <td>1.000000</td>\n",
       "      <td>861351.0</td>\n",
       "      <td>845776.0</td>\n",
       "      <td>203684.0</td>\n",
       "      <td>0.240825</td>\n",
       "      <td>678.0</td>\n",
       "      <td>8531.0</td>\n",
       "      <td>0.009904</td>\n",
       "      <td>861352.0</td>\n",
       "      <td>846454.0</td>\n",
       "      <td>8532.0</td>\n",
       "      <td>0.009905</td>\n",
       "      <td>2014</td>\n",
       "    </tr>\n",
       "    <tr>\n",
       "      <th>2</th>\n",
       "      <td>Greece</td>\n",
       "      <td>RUSSIAN FEDERATION</td>\n",
       "      <td>MOSCOW</td>\n",
       "      <td>NaN</td>\n",
       "      <td>NaN</td>\n",
       "      <td>NaN</td>\n",
       "      <td>NaN</td>\n",
       "      <td>NaN</td>\n",
       "      <td>768649.0</td>\n",
       "      <td>765508.0</td>\n",
       "      <td>304967.0</td>\n",
       "      <td>0.398385</td>\n",
       "      <td>4.0</td>\n",
       "      <td>3137.0</td>\n",
       "      <td>0.004081</td>\n",
       "      <td>768649.0</td>\n",
       "      <td>765512.0</td>\n",
       "      <td>3137.0</td>\n",
       "      <td>0.004081</td>\n",
       "      <td>2014</td>\n",
       "    </tr>\n",
       "    <tr>\n",
       "      <th>3</th>\n",
       "      <td>Italy</td>\n",
       "      <td>RUSSIAN FEDERATION</td>\n",
       "      <td>MOSCOW</td>\n",
       "      <td>0.0</td>\n",
       "      <td>0.0</td>\n",
       "      <td>0.0</td>\n",
       "      <td>0.0</td>\n",
       "      <td>NaN</td>\n",
       "      <td>727792.0</td>\n",
       "      <td>720564.0</td>\n",
       "      <td>715133.0</td>\n",
       "      <td>0.992463</td>\n",
       "      <td>136.0</td>\n",
       "      <td>7092.0</td>\n",
       "      <td>0.009745</td>\n",
       "      <td>727792.0</td>\n",
       "      <td>720700.0</td>\n",
       "      <td>7092.0</td>\n",
       "      <td>0.009745</td>\n",
       "      <td>2014</td>\n",
       "    </tr>\n",
       "    <tr>\n",
       "      <th>4</th>\n",
       "      <td>France</td>\n",
       "      <td>RUSSIAN FEDERATION</td>\n",
       "      <td>MOSCOW</td>\n",
       "      <td>14.0</td>\n",
       "      <td>11.0</td>\n",
       "      <td>NaN</td>\n",
       "      <td>3.0</td>\n",
       "      <td>0.214286</td>\n",
       "      <td>290369.0</td>\n",
       "      <td>285664.0</td>\n",
       "      <td>117259.0</td>\n",
       "      <td>0.410479</td>\n",
       "      <td>331.0</td>\n",
       "      <td>4374.0</td>\n",
       "      <td>0.015064</td>\n",
       "      <td>290383.0</td>\n",
       "      <td>286006.0</td>\n",
       "      <td>4377.0</td>\n",
       "      <td>0.015073</td>\n",
       "      <td>2014</td>\n",
       "    </tr>\n",
       "  </tbody>\n",
       "</table>\n",
       "</div>"
      ],
      "text/plain": [
       "  Schengen State Country where consulate is located       Consulate  \\\n",
       "0        Finland                 RUSSIAN FEDERATION  ST. PETERSBURG   \n",
       "1          Spain                 RUSSIAN FEDERATION          MOSCOW   \n",
       "2         Greece                 RUSSIAN FEDERATION          MOSCOW   \n",
       "3          Italy                 RUSSIAN FEDERATION          MOSCOW   \n",
       "4         France                 RUSSIAN FEDERATION          MOSCOW   \n",
       "\n",
       "   Airport transit visas (ATVs) applied for   \\\n",
       "0                                        NaN   \n",
       "1                                        1.0   \n",
       "2                                        NaN   \n",
       "3                                        0.0   \n",
       "4                                       14.0   \n",
       "\n",
       "    ATVs issued (including multiple)  Multiple ATVs issued  ATVs not issued   \\\n",
       "0                                NaN                   NaN               NaN   \n",
       "1                                0.0                   0.0               1.0   \n",
       "2                                NaN                   NaN               NaN   \n",
       "3                                0.0                   0.0               0.0   \n",
       "4                               11.0                   NaN               3.0   \n",
       "\n",
       "   Not issued rate for ATVs  Uniform visas applied for  \\\n",
       "0                       NaN                   914314.0   \n",
       "1                  1.000000                   861351.0   \n",
       "2                       NaN                   768649.0   \n",
       "3                       NaN                   727792.0   \n",
       "4                  0.214286                   290369.0   \n",
       "\n",
       "   Total  uniform visas issued (including MEV) \\n  \\\n",
       "0                                        908145.0   \n",
       "1                                        845776.0   \n",
       "2                                        765508.0   \n",
       "3                                        720564.0   \n",
       "4                                        285664.0   \n",
       "\n",
       "   Multiple entry uniform visas (MEVs) issued  \\\n",
       "0                                    895849.0   \n",
       "1                                    203684.0   \n",
       "2                                    304967.0   \n",
       "3                                    715133.0   \n",
       "4                                    117259.0   \n",
       "\n",
       "   Share of MEVs on total number of uniform visas issued  Total LTVs issued  \\\n",
       "0                                           0.986460                   14.0   \n",
       "1                                           0.240825                  678.0   \n",
       "2                                           0.398385                    4.0   \n",
       "3                                           0.992463                  136.0   \n",
       "4                                           0.410479                  331.0   \n",
       "\n",
       "   Uniform visas not issued  Not issued rate for uniform visas  \\\n",
       "0                    6155.0                           0.006732   \n",
       "1                    8531.0                           0.009904   \n",
       "2                    3137.0                           0.004081   \n",
       "3                    7092.0                           0.009745   \n",
       "4                    4374.0                           0.015064   \n",
       "\n",
       "   Total ATVs and uniform visas applied for  \\\n",
       "0                                  914314.0   \n",
       "1                                  861352.0   \n",
       "2                                  768649.0   \n",
       "3                                  727792.0   \n",
       "4                                  290383.0   \n",
       "\n",
       "   Total ATVs and uniform visas issued  (including multiple ATVs, MEVs and LTVs)   \\\n",
       "0                                           908159.0                                \n",
       "1                                           846454.0                                \n",
       "2                                           765512.0                                \n",
       "3                                           720700.0                                \n",
       "4                                           286006.0                                \n",
       "\n",
       "   Total ATVs and uniform visas not issued  \\\n",
       "0                                   6155.0   \n",
       "1                                   8532.0   \n",
       "2                                   3137.0   \n",
       "3                                   7092.0   \n",
       "4                                   4377.0   \n",
       "\n",
       "   Not issued rate for ATVs and uniform visas   year  \n",
       "0                                     0.006732  2014  \n",
       "1                                     0.009905  2014  \n",
       "2                                     0.004081  2014  \n",
       "3                                     0.009745  2014  \n",
       "4                                     0.015073  2014  "
      ]
     },
     "execution_count": 3,
     "metadata": {},
     "output_type": "execute_result"
    }
   ],
   "source": [
    "df.head()"
   ]
  },
  {
   "cell_type": "markdown",
   "id": "3fa174bf-ec51-4716-8fc1-4e1e0bf2935e",
   "metadata": {},
   "source": [
    "Reading the 2013 excel file and assigning column names of the main dataframe and creating a year column:"
   ]
  },
  {
   "cell_type": "code",
   "execution_count": 4,
   "id": "ba90b31f-b288-4d94-be3c-708673257d51",
   "metadata": {},
   "outputs": [],
   "source": [
    "df2013 = pd.read_excel(r'C:\\Users\\Esprimo Q920\\Desktop\\schengen_visa\\2012 and 2013\\synthese_2013_with_filters_en.xls', sheet_name='Complete data')"
   ]
  },
  {
   "cell_type": "code",
   "execution_count": 5,
   "id": "9a0509fb-bc28-4abb-af02-77c11295d9e5",
   "metadata": {},
   "outputs": [],
   "source": [
    "df2013['year'] = 2013"
   ]
  },
  {
   "cell_type": "code",
   "execution_count": 6,
   "id": "3b8f5f6c-296b-40d6-a039-8dcad40a35b7",
   "metadata": {},
   "outputs": [],
   "source": [
    "df2013.columns = df.columns"
   ]
  },
  {
   "cell_type": "code",
   "execution_count": 7,
   "id": "0eb80276-98ae-4209-9ce3-e7c1fde2e7e5",
   "metadata": {},
   "outputs": [
    {
     "data": {
      "text/html": [
       "<div>\n",
       "<style scoped>\n",
       "    .dataframe tbody tr th:only-of-type {\n",
       "        vertical-align: middle;\n",
       "    }\n",
       "\n",
       "    .dataframe tbody tr th {\n",
       "        vertical-align: top;\n",
       "    }\n",
       "\n",
       "    .dataframe thead th {\n",
       "        text-align: right;\n",
       "    }\n",
       "</style>\n",
       "<table border=\"1\" class=\"dataframe\">\n",
       "  <thead>\n",
       "    <tr style=\"text-align: right;\">\n",
       "      <th></th>\n",
       "      <th>Schengen State</th>\n",
       "      <th>Country where consulate is located</th>\n",
       "      <th>Consulate</th>\n",
       "      <th>Airport transit visas (ATVs) applied for</th>\n",
       "      <th>ATVs issued (including multiple)</th>\n",
       "      <th>Multiple ATVs issued</th>\n",
       "      <th>ATVs not issued</th>\n",
       "      <th>Not issued rate for ATVs</th>\n",
       "      <th>Uniform visas applied for</th>\n",
       "      <th>Total  uniform visas issued (including MEV) \\n</th>\n",
       "      <th>Multiple entry uniform visas (MEVs) issued</th>\n",
       "      <th>Share of MEVs on total number of uniform visas issued</th>\n",
       "      <th>Total LTVs issued</th>\n",
       "      <th>Uniform visas not issued</th>\n",
       "      <th>Not issued rate for uniform visas</th>\n",
       "      <th>Total ATVs and uniform visas applied for</th>\n",
       "      <th>Total ATVs and uniform visas issued  (including multiple ATVs, MEVs and LTVs)</th>\n",
       "      <th>Total ATVs and uniform visas not issued</th>\n",
       "      <th>Not issued rate for ATVs and uniform visas</th>\n",
       "      <th>year</th>\n",
       "    </tr>\n",
       "  </thead>\n",
       "  <tbody>\n",
       "    <tr>\n",
       "      <th>0</th>\n",
       "      <td>Finland</td>\n",
       "      <td>RUSSIAN FEDERATION</td>\n",
       "      <td>ST. PETERSBURG</td>\n",
       "      <td>1.0</td>\n",
       "      <td>1.0</td>\n",
       "      <td>NaN</td>\n",
       "      <td>NaN</td>\n",
       "      <td>0.000000</td>\n",
       "      <td>1204670.0</td>\n",
       "      <td>1195130.0</td>\n",
       "      <td>1171713.0</td>\n",
       "      <td>0.980406</td>\n",
       "      <td>35.0</td>\n",
       "      <td>9505.0</td>\n",
       "      <td>0.007890</td>\n",
       "      <td>1204671.0</td>\n",
       "      <td>1195166.0</td>\n",
       "      <td>9505.0</td>\n",
       "      <td>0.007890</td>\n",
       "      <td>2013</td>\n",
       "    </tr>\n",
       "    <tr>\n",
       "      <th>1</th>\n",
       "      <td>Spain</td>\n",
       "      <td>RUSSIAN FEDERATION</td>\n",
       "      <td>MOSCOW</td>\n",
       "      <td>2.0</td>\n",
       "      <td>1.0</td>\n",
       "      <td>NaN</td>\n",
       "      <td>NaN</td>\n",
       "      <td>0.000000</td>\n",
       "      <td>1051643.0</td>\n",
       "      <td>1016986.0</td>\n",
       "      <td>196054.0</td>\n",
       "      <td>0.192779</td>\n",
       "      <td>3991.0</td>\n",
       "      <td>10292.0</td>\n",
       "      <td>0.009787</td>\n",
       "      <td>1051645.0</td>\n",
       "      <td>1020978.0</td>\n",
       "      <td>10292.0</td>\n",
       "      <td>0.009787</td>\n",
       "      <td>2013</td>\n",
       "    </tr>\n",
       "    <tr>\n",
       "      <th>2</th>\n",
       "      <td>Greece</td>\n",
       "      <td>RUSSIAN FEDERATION</td>\n",
       "      <td>MOSCOW</td>\n",
       "      <td>1.0</td>\n",
       "      <td>1.0</td>\n",
       "      <td>NaN</td>\n",
       "      <td>NaN</td>\n",
       "      <td>0.000000</td>\n",
       "      <td>910824.0</td>\n",
       "      <td>908680.0</td>\n",
       "      <td>332319.0</td>\n",
       "      <td>0.365716</td>\n",
       "      <td>13.0</td>\n",
       "      <td>2131.0</td>\n",
       "      <td>0.002340</td>\n",
       "      <td>910825.0</td>\n",
       "      <td>908694.0</td>\n",
       "      <td>2131.0</td>\n",
       "      <td>0.002340</td>\n",
       "      <td>2013</td>\n",
       "    </tr>\n",
       "    <tr>\n",
       "      <th>3</th>\n",
       "      <td>Italy</td>\n",
       "      <td>RUSSIAN FEDERATION</td>\n",
       "      <td>MOSCOW</td>\n",
       "      <td>0.0</td>\n",
       "      <td>0.0</td>\n",
       "      <td>0.0</td>\n",
       "      <td>0.0</td>\n",
       "      <td>NaN</td>\n",
       "      <td>725524.0</td>\n",
       "      <td>720863.0</td>\n",
       "      <td>707109.0</td>\n",
       "      <td>0.980920</td>\n",
       "      <td>270.0</td>\n",
       "      <td>4391.0</td>\n",
       "      <td>0.006052</td>\n",
       "      <td>725524.0</td>\n",
       "      <td>721133.0</td>\n",
       "      <td>4391.0</td>\n",
       "      <td>0.006052</td>\n",
       "      <td>2013</td>\n",
       "    </tr>\n",
       "    <tr>\n",
       "      <th>4</th>\n",
       "      <td>France</td>\n",
       "      <td>RUSSIAN FEDERATION</td>\n",
       "      <td>MOSCOW</td>\n",
       "      <td>11.0</td>\n",
       "      <td>9.0</td>\n",
       "      <td>0.0</td>\n",
       "      <td>2.0</td>\n",
       "      <td>0.181818</td>\n",
       "      <td>390161.0</td>\n",
       "      <td>385160.0</td>\n",
       "      <td>117195.0</td>\n",
       "      <td>0.304276</td>\n",
       "      <td>275.0</td>\n",
       "      <td>4726.0</td>\n",
       "      <td>0.012113</td>\n",
       "      <td>390172.0</td>\n",
       "      <td>385444.0</td>\n",
       "      <td>4728.0</td>\n",
       "      <td>0.012118</td>\n",
       "      <td>2013</td>\n",
       "    </tr>\n",
       "  </tbody>\n",
       "</table>\n",
       "</div>"
      ],
      "text/plain": [
       "  Schengen State Country where consulate is located       Consulate  \\\n",
       "0        Finland                 RUSSIAN FEDERATION  ST. PETERSBURG   \n",
       "1          Spain                 RUSSIAN FEDERATION          MOSCOW   \n",
       "2         Greece                 RUSSIAN FEDERATION          MOSCOW   \n",
       "3          Italy                 RUSSIAN FEDERATION          MOSCOW   \n",
       "4         France                 RUSSIAN FEDERATION          MOSCOW   \n",
       "\n",
       "   Airport transit visas (ATVs) applied for   \\\n",
       "0                                        1.0   \n",
       "1                                        2.0   \n",
       "2                                        1.0   \n",
       "3                                        0.0   \n",
       "4                                       11.0   \n",
       "\n",
       "    ATVs issued (including multiple)  Multiple ATVs issued  ATVs not issued   \\\n",
       "0                                1.0                   NaN               NaN   \n",
       "1                                1.0                   NaN               NaN   \n",
       "2                                1.0                   NaN               NaN   \n",
       "3                                0.0                   0.0               0.0   \n",
       "4                                9.0                   0.0               2.0   \n",
       "\n",
       "   Not issued rate for ATVs  Uniform visas applied for  \\\n",
       "0                  0.000000                  1204670.0   \n",
       "1                  0.000000                  1051643.0   \n",
       "2                  0.000000                   910824.0   \n",
       "3                       NaN                   725524.0   \n",
       "4                  0.181818                   390161.0   \n",
       "\n",
       "   Total  uniform visas issued (including MEV) \\n  \\\n",
       "0                                       1195130.0   \n",
       "1                                       1016986.0   \n",
       "2                                        908680.0   \n",
       "3                                        720863.0   \n",
       "4                                        385160.0   \n",
       "\n",
       "   Multiple entry uniform visas (MEVs) issued  \\\n",
       "0                                   1171713.0   \n",
       "1                                    196054.0   \n",
       "2                                    332319.0   \n",
       "3                                    707109.0   \n",
       "4                                    117195.0   \n",
       "\n",
       "   Share of MEVs on total number of uniform visas issued  Total LTVs issued  \\\n",
       "0                                           0.980406                   35.0   \n",
       "1                                           0.192779                 3991.0   \n",
       "2                                           0.365716                   13.0   \n",
       "3                                           0.980920                  270.0   \n",
       "4                                           0.304276                  275.0   \n",
       "\n",
       "   Uniform visas not issued  Not issued rate for uniform visas  \\\n",
       "0                    9505.0                           0.007890   \n",
       "1                   10292.0                           0.009787   \n",
       "2                    2131.0                           0.002340   \n",
       "3                    4391.0                           0.006052   \n",
       "4                    4726.0                           0.012113   \n",
       "\n",
       "   Total ATVs and uniform visas applied for  \\\n",
       "0                                 1204671.0   \n",
       "1                                 1051645.0   \n",
       "2                                  910825.0   \n",
       "3                                  725524.0   \n",
       "4                                  390172.0   \n",
       "\n",
       "   Total ATVs and uniform visas issued  (including multiple ATVs, MEVs and LTVs)   \\\n",
       "0                                          1195166.0                                \n",
       "1                                          1020978.0                                \n",
       "2                                           908694.0                                \n",
       "3                                           721133.0                                \n",
       "4                                           385444.0                                \n",
       "\n",
       "   Total ATVs and uniform visas not issued  \\\n",
       "0                                   9505.0   \n",
       "1                                  10292.0   \n",
       "2                                   2131.0   \n",
       "3                                   4391.0   \n",
       "4                                   4728.0   \n",
       "\n",
       "   Not issued rate for ATVs and uniform visas   year  \n",
       "0                                     0.007890  2013  \n",
       "1                                     0.009787  2013  \n",
       "2                                     0.002340  2013  \n",
       "3                                     0.006052  2013  \n",
       "4                                     0.012118  2013  "
      ]
     },
     "execution_count": 7,
     "metadata": {},
     "output_type": "execute_result"
    }
   ],
   "source": [
    "df2013.head()"
   ]
  },
  {
   "cell_type": "markdown",
   "id": "a74d4be8-4d00-45cb-ad18-f4ae6f025045",
   "metadata": {},
   "source": [
    "Merging two dataframes:"
   ]
  },
  {
   "cell_type": "code",
   "execution_count": 8,
   "id": "09394306-927a-4c6a-aa52-fbfb9808efc4",
   "metadata": {},
   "outputs": [],
   "source": [
    "df = pd.concat([df, df2013])"
   ]
  },
  {
   "cell_type": "markdown",
   "id": "1491fd1d-b2ec-4bd0-85ca-233a114c5b19",
   "metadata": {},
   "source": [
    "Choosing the necessary columns:"
   ]
  },
  {
   "cell_type": "code",
   "execution_count": 9,
   "id": "0e14783f-dc13-4cd9-a37c-c83c1fa068d5",
   "metadata": {
    "tags": []
   },
   "outputs": [],
   "source": [
    "df = df.iloc[:, [0,1,2,8,9,10,12,13,-1]]"
   ]
  },
  {
   "cell_type": "code",
   "execution_count": 10,
   "id": "966516eb-6270-49ab-a90c-4c3d40fe0e9c",
   "metadata": {},
   "outputs": [
    {
     "name": "stdout",
     "output_type": "stream",
     "text": [
      "  schengen_state         app_country       consulate       app  total_issued  \\\n",
      "0        Finland  RUSSIAN FEDERATION  ST. PETERSBURG  914314.0      908145.0   \n",
      "1          Spain  RUSSIAN FEDERATION          MOSCOW  861351.0      845776.0   \n",
      "2         Greece  RUSSIAN FEDERATION          MOSCOW  768649.0      765508.0   \n",
      "3          Italy  RUSSIAN FEDERATION          MOSCOW  727792.0      720564.0   \n",
      "4         France  RUSSIAN FEDERATION          MOSCOW  290369.0      285664.0   \n",
      "\n",
      "   mev_issued    ltv  rejected  year  \n",
      "0    895849.0   14.0    6155.0  2014  \n",
      "1    203684.0  678.0    8531.0  2014  \n",
      "2    304967.0    4.0    3137.0  2014  \n",
      "3    715133.0  136.0    7092.0  2014  \n",
      "4    117259.0  331.0    4374.0  2014  \n"
     ]
    }
   ],
   "source": [
    "column_names = [\"schengen_state\", \"app_country\", \"consulate\", \"app\",\"total_issued\", \"mev_issued\", \"ltv\", \"rejected\", 'year']\n",
    "df.columns = column_names\n",
    "print(df.head())"
   ]
  },
  {
   "cell_type": "markdown",
   "id": "ce3f71b4-8fd1-4066-a166-c0824d908b73",
   "metadata": {},
   "source": [
    "Reading the 2012 file:"
   ]
  },
  {
   "cell_type": "code",
   "execution_count": 11,
   "id": "ef059b76-3909-48ff-bbd6-55b3fdad4243",
   "metadata": {},
   "outputs": [],
   "source": [
    "df2012 = pd.read_excel(r'C:\\Users\\Esprimo Q920\\Desktop\\schengen_visa\\2012 and 2013\\synthese_2012_with_filters_en.xlsx', sheet_name='Sheet1')"
   ]
  },
  {
   "cell_type": "code",
   "execution_count": 12,
   "id": "c8c2c2a4-73b2-49bd-9244-6b0c56507bbc",
   "metadata": {},
   "outputs": [
    {
     "data": {
      "text/html": [
       "<div>\n",
       "<style scoped>\n",
       "    .dataframe tbody tr th:only-of-type {\n",
       "        vertical-align: middle;\n",
       "    }\n",
       "\n",
       "    .dataframe tbody tr th {\n",
       "        vertical-align: top;\n",
       "    }\n",
       "\n",
       "    .dataframe thead th {\n",
       "        text-align: right;\n",
       "    }\n",
       "</style>\n",
       "<table border=\"1\" class=\"dataframe\">\n",
       "  <thead>\n",
       "    <tr style=\"text-align: right;\">\n",
       "      <th></th>\n",
       "      <th>Schengen State</th>\n",
       "      <th>World region</th>\n",
       "      <th>Country where consulate is located</th>\n",
       "      <th>Location of consulate</th>\n",
       "      <th>A visas issued</th>\n",
       "      <th>Multiple A visas issued</th>\n",
       "      <th>A Visas applied for</th>\n",
       "      <th>A visas not issued</th>\n",
       "      <th>C visas issued (including MEV) \\n</th>\n",
       "      <th>Multiple entry C visas issued</th>\n",
       "      <th>Share of MEVs on issued C visas</th>\n",
       "      <th>C visas applied for</th>\n",
       "      <th>C visas not issued</th>\n",
       "      <th>Total A and C visas issued  (including multiple-entry A visas and multiple-entry C visas)</th>\n",
       "      <th>Total A and C visas applied for.</th>\n",
       "      <th>Total A and C visas not issued</th>\n",
       "      <th>Not issued rate for A and C visas</th>\n",
       "      <th>Total LTV visas issued</th>\n",
       "      <th>Total A, C and LTV visas issued</th>\n",
       "      <th>Rate LTV visas issued / C visas issued</th>\n",
       "    </tr>\n",
       "  </thead>\n",
       "  <tbody>\n",
       "    <tr>\n",
       "      <th>0</th>\n",
       "      <td>NaN</td>\n",
       "      <td>NaN</td>\n",
       "      <td>NaN</td>\n",
       "      <td>NaN</td>\n",
       "      <td>NaN</td>\n",
       "      <td>NaN</td>\n",
       "      <td>NaN</td>\n",
       "      <td>NaN</td>\n",
       "      <td>NaN</td>\n",
       "      <td>NaN</td>\n",
       "      <td>NaN</td>\n",
       "      <td>NaN</td>\n",
       "      <td>NaN</td>\n",
       "      <td>NaN</td>\n",
       "      <td>NaN</td>\n",
       "      <td>NaN</td>\n",
       "      <td>NaN</td>\n",
       "      <td>NaN</td>\n",
       "      <td>NaN</td>\n",
       "      <td>NaN</td>\n",
       "    </tr>\n",
       "    <tr>\n",
       "      <th>1</th>\n",
       "      <td>DENMARK</td>\n",
       "      <td>SOUTH&amp;EAST ASIA</td>\n",
       "      <td>AFGHANISTAN</td>\n",
       "      <td>KABUL</td>\n",
       "      <td>NaN</td>\n",
       "      <td>NaN</td>\n",
       "      <td>NaN</td>\n",
       "      <td>NaN</td>\n",
       "      <td>59</td>\n",
       "      <td>5</td>\n",
       "      <td>0.084746</td>\n",
       "      <td>74</td>\n",
       "      <td>7</td>\n",
       "      <td>59</td>\n",
       "      <td>74</td>\n",
       "      <td>7</td>\n",
       "      <td>0.094595</td>\n",
       "      <td>9</td>\n",
       "      <td>68</td>\n",
       "      <td>0.152542</td>\n",
       "    </tr>\n",
       "    <tr>\n",
       "      <th>2</th>\n",
       "      <td>France</td>\n",
       "      <td>SOUTH&amp;EAST ASIA</td>\n",
       "      <td>AFGHANISTAN</td>\n",
       "      <td>KABUL</td>\n",
       "      <td>4</td>\n",
       "      <td>NaN</td>\n",
       "      <td>4</td>\n",
       "      <td>NaN</td>\n",
       "      <td>1143</td>\n",
       "      <td>141</td>\n",
       "      <td>0.12336</td>\n",
       "      <td>1189</td>\n",
       "      <td>46</td>\n",
       "      <td>1147</td>\n",
       "      <td>1193</td>\n",
       "      <td>46</td>\n",
       "      <td>0.038558</td>\n",
       "      <td>547</td>\n",
       "      <td>1694</td>\n",
       "      <td>0.478565</td>\n",
       "    </tr>\n",
       "    <tr>\n",
       "      <th>3</th>\n",
       "      <td>GERMANY</td>\n",
       "      <td>SOUTH&amp;EAST ASIA</td>\n",
       "      <td>AFGHANISTAN</td>\n",
       "      <td>KABUL</td>\n",
       "      <td>NaN</td>\n",
       "      <td>NaN</td>\n",
       "      <td>NaN</td>\n",
       "      <td>NaN</td>\n",
       "      <td>1571</td>\n",
       "      <td>22</td>\n",
       "      <td>0.014004</td>\n",
       "      <td>2892</td>\n",
       "      <td>1321</td>\n",
       "      <td>1571</td>\n",
       "      <td>2892</td>\n",
       "      <td>1321</td>\n",
       "      <td>0.456777</td>\n",
       "      <td>52</td>\n",
       "      <td>1623</td>\n",
       "      <td>0.0331</td>\n",
       "    </tr>\n",
       "    <tr>\n",
       "      <th>4</th>\n",
       "      <td>ITALY</td>\n",
       "      <td>SOUTH&amp;EAST ASIA</td>\n",
       "      <td>AFGHANISTAN</td>\n",
       "      <td>KABUL</td>\n",
       "      <td>0</td>\n",
       "      <td>0</td>\n",
       "      <td>0</td>\n",
       "      <td>0</td>\n",
       "      <td>417</td>\n",
       "      <td>324</td>\n",
       "      <td>0.776978</td>\n",
       "      <td>471</td>\n",
       "      <td>54</td>\n",
       "      <td>417</td>\n",
       "      <td>471</td>\n",
       "      <td>54</td>\n",
       "      <td>0.11465</td>\n",
       "      <td>243</td>\n",
       "      <td>660</td>\n",
       "      <td>0.582734</td>\n",
       "    </tr>\n",
       "  </tbody>\n",
       "</table>\n",
       "</div>"
      ],
      "text/plain": [
       "  Schengen State     World region  Country where consulate is located   \\\n",
       "0             NaN              NaN                                 NaN   \n",
       "1         DENMARK  SOUTH&EAST ASIA                         AFGHANISTAN   \n",
       "2          France  SOUTH&EAST ASIA                         AFGHANISTAN   \n",
       "3         GERMANY  SOUTH&EAST ASIA                         AFGHANISTAN   \n",
       "4           ITALY  SOUTH&EAST ASIA                         AFGHANISTAN   \n",
       "\n",
       "  Location of consulate  A visas issued  Multiple A visas issued  \\\n",
       "0                    NaN             NaN                     NaN   \n",
       "1                  KABUL             NaN                     NaN   \n",
       "2                  KABUL               4                     NaN   \n",
       "3                  KABUL             NaN                     NaN   \n",
       "4                  KABUL               0                       0   \n",
       "\n",
       "  A Visas applied for  A visas not issued  C visas issued (including MEV) \\n  \\\n",
       "0                  NaN                 NaN                               NaN   \n",
       "1                  NaN                 NaN                                59   \n",
       "2                    4                 NaN                              1143   \n",
       "3                  NaN                 NaN                              1571   \n",
       "4                    0                   0                               417   \n",
       "\n",
       "  Multiple entry C visas issued Share of MEVs on issued C visas  \\\n",
       "0                           NaN                             NaN   \n",
       "1                             5                        0.084746   \n",
       "2                           141                         0.12336   \n",
       "3                            22                        0.014004   \n",
       "4                           324                        0.776978   \n",
       "\n",
       "  C visas applied for C visas not issued  \\\n",
       "0                 NaN                NaN   \n",
       "1                  74                  7   \n",
       "2                1189                 46   \n",
       "3                2892               1321   \n",
       "4                 471                 54   \n",
       "\n",
       "  Total A and C visas issued  (including multiple-entry A visas and multiple-entry C visas)   \\\n",
       "0                                                NaN                                           \n",
       "1                                                 59                                           \n",
       "2                                               1147                                           \n",
       "3                                               1571                                           \n",
       "4                                                417                                           \n",
       "\n",
       "  Total A and C visas applied for.  Total A and C visas not issued  \\\n",
       "0                               NaN                            NaN   \n",
       "1                                74                              7   \n",
       "2                              1193                             46   \n",
       "3                              2892                           1321   \n",
       "4                               471                             54   \n",
       "\n",
       "  Not issued rate for A and C visas  Total LTV visas issued  \\\n",
       "0                                NaN                    NaN   \n",
       "1                           0.094595                      9   \n",
       "2                           0.038558                    547   \n",
       "3                           0.456777                     52   \n",
       "4                            0.11465                    243   \n",
       "\n",
       "  Total A, C and LTV visas issued Rate LTV visas issued / C visas issued  \n",
       "0                             NaN                                    NaN  \n",
       "1                              68                               0.152542  \n",
       "2                            1694                               0.478565  \n",
       "3                            1623                                 0.0331  \n",
       "4                             660                               0.582734  "
      ]
     },
     "execution_count": 12,
     "metadata": {},
     "output_type": "execute_result"
    }
   ],
   "source": [
    "df2012.head()"
   ]
  },
  {
   "cell_type": "markdown",
   "id": "b330c274-a055-4ea7-8d6b-4e6976cb169b",
   "metadata": {},
   "source": [
    "Choosing the necessar columns and renaming them with the column names of the main dataframe:"
   ]
  },
  {
   "cell_type": "code",
   "execution_count": 13,
   "id": "95a45918-45c5-4057-a376-f7e95561806e",
   "metadata": {},
   "outputs": [],
   "source": [
    "df2012 = df2012.iloc[:, [0,2,3,11,8,9,12]]"
   ]
  },
  {
   "cell_type": "code",
   "execution_count": 14,
   "id": "0b67ea78-6b3f-4f7f-98e6-25f59cae5ebb",
   "metadata": {},
   "outputs": [
    {
     "name": "stdout",
     "output_type": "stream",
     "text": [
      "     schengen_state  app_country            consulate       app total_issued  \\\n",
      "0               NaN          NaN                  NaN       NaN          NaN   \n",
      "1           DENMARK  AFGHANISTAN                KABUL        74           59   \n",
      "2            France  AFGHANISTAN                KABUL      1189         1143   \n",
      "3           GERMANY  AFGHANISTAN                KABUL      2892         1571   \n",
      "4             ITALY  AFGHANISTAN                KABUL       471          417   \n",
      "...             ...          ...                  ...       ...          ...   \n",
      "2031            NaN          NaN                  NaN       NaN          NaN   \n",
      "2032            NaN          NaN  TOTAL Visas in 2012  15116973     14250595   \n",
      "2033            NaN          NaN              Minimum         0            0   \n",
      "2034            NaN          NaN              Maximum   1030968      1022443   \n",
      "2035            NaN          NaN              Average   7483.65  7200.907024   \n",
      "\n",
      "      mev_issued    rejected  year  \n",
      "0            NaN         NaN  2012  \n",
      "1              5           7  2012  \n",
      "2            141          46  2012  \n",
      "3             22        1321  2012  \n",
      "4            324          54  2012  \n",
      "...          ...         ...   ...  \n",
      "2031         NaN         NaN  2012  \n",
      "2032     5921699      720632  2012  \n",
      "2033           0           0  2012  \n",
      "2034     1000578       28329  2012  \n",
      "2035  3207.85428  432.033573  2012  \n",
      "\n",
      "[2036 rows x 8 columns]\n"
     ]
    }
   ],
   "source": [
    "column_names2 = [\"schengen_state\", \"app_country\", \"consulate\", \"app\",\"total_issued\", \"mev_issued\", \"rejected\"]\n",
    "df2012.columns = column_names2\n",
    "df2012['year'] = 2012\n",
    "print(df2012)"
   ]
  },
  {
   "cell_type": "markdown",
   "id": "310e8f57-eae3-4acc-bc64-70ddb1df75a9",
   "metadata": {},
   "source": [
    "Merging dataframes once more:"
   ]
  },
  {
   "cell_type": "code",
   "execution_count": 16,
   "id": "5268618d-e969-4b17-800e-7bc3e3426a33",
   "metadata": {},
   "outputs": [],
   "source": [
    "df = pd.concat([df, df2012])"
   ]
  },
  {
   "cell_type": "markdown",
   "id": "433fd3a7-eaec-411e-83ea-de748c195660",
   "metadata": {},
   "source": [
    "The source files have some unnecessary tail in the document so I'll remove them:"
   ]
  },
  {
   "cell_type": "code",
   "execution_count": 17,
   "id": "efa0d87e-d2fa-44de-a768-0d83ccded2ef",
   "metadata": {},
   "outputs": [],
   "source": [
    "df = df.dropna(subset=['schengen_state', 'app_country'])\n",
    "df = df.fillna(0)"
   ]
  },
  {
   "cell_type": "markdown",
   "id": "d5adb261-0586-4467-bd0a-bb4e42e60c6b",
   "metadata": {},
   "source": [
    "Checking amount of na values:"
   ]
  },
  {
   "cell_type": "code",
   "execution_count": 18,
   "id": "d45d412f-6cb2-4e89-8761-0d66b01fd1a1",
   "metadata": {},
   "outputs": [
    {
     "name": "stdout",
     "output_type": "stream",
     "text": [
      "schengen_state - 0.0%\n",
      "app_country - 0.0%\n",
      "consulate - 0.0%\n",
      "app - 0.0%\n",
      "total_issued - 0.0%\n",
      "mev_issued - 0.0%\n",
      "ltv - 0.0%\n",
      "rejected - 0.0%\n",
      "year - 0.0%\n"
     ]
    }
   ],
   "source": [
    "for col in df.columns:\n",
    "    pct_missing = (np.mean(df[col].isnull())*100)\n",
    "    print('{} - {}%'.format(col, pct_missing))"
   ]
  },
  {
   "cell_type": "markdown",
   "id": "f26ea628-ef76-43b9-ba02-f366ea50af14",
   "metadata": {},
   "source": [
    "There are not that many so I will drop them:"
   ]
  },
  {
   "cell_type": "code",
   "execution_count": 19,
   "id": "3cc56584-35b6-451f-9eda-28e0c1ec4229",
   "metadata": {},
   "outputs": [
    {
     "data": {
      "text/html": [
       "<div>\n",
       "<style scoped>\n",
       "    .dataframe tbody tr th:only-of-type {\n",
       "        vertical-align: middle;\n",
       "    }\n",
       "\n",
       "    .dataframe tbody tr th {\n",
       "        vertical-align: top;\n",
       "    }\n",
       "\n",
       "    .dataframe thead th {\n",
       "        text-align: right;\n",
       "    }\n",
       "</style>\n",
       "<table border=\"1\" class=\"dataframe\">\n",
       "  <thead>\n",
       "    <tr style=\"text-align: right;\">\n",
       "      <th></th>\n",
       "      <th>schengen_state</th>\n",
       "      <th>app_country</th>\n",
       "      <th>consulate</th>\n",
       "      <th>app</th>\n",
       "      <th>total_issued</th>\n",
       "      <th>mev_issued</th>\n",
       "      <th>ltv</th>\n",
       "      <th>rejected</th>\n",
       "      <th>year</th>\n",
       "    </tr>\n",
       "  </thead>\n",
       "  <tbody>\n",
       "    <tr>\n",
       "      <th>0</th>\n",
       "      <td>Finland</td>\n",
       "      <td>RUSSIAN FEDERATION</td>\n",
       "      <td>ST. PETERSBURG</td>\n",
       "      <td>914314.0</td>\n",
       "      <td>908145.0</td>\n",
       "      <td>895849.0</td>\n",
       "      <td>14.0</td>\n",
       "      <td>6155.0</td>\n",
       "      <td>2014</td>\n",
       "    </tr>\n",
       "    <tr>\n",
       "      <th>1</th>\n",
       "      <td>Spain</td>\n",
       "      <td>RUSSIAN FEDERATION</td>\n",
       "      <td>MOSCOW</td>\n",
       "      <td>861351.0</td>\n",
       "      <td>845776.0</td>\n",
       "      <td>203684.0</td>\n",
       "      <td>678.0</td>\n",
       "      <td>8531.0</td>\n",
       "      <td>2014</td>\n",
       "    </tr>\n",
       "    <tr>\n",
       "      <th>2</th>\n",
       "      <td>Greece</td>\n",
       "      <td>RUSSIAN FEDERATION</td>\n",
       "      <td>MOSCOW</td>\n",
       "      <td>768649.0</td>\n",
       "      <td>765508.0</td>\n",
       "      <td>304967.0</td>\n",
       "      <td>4.0</td>\n",
       "      <td>3137.0</td>\n",
       "      <td>2014</td>\n",
       "    </tr>\n",
       "    <tr>\n",
       "      <th>3</th>\n",
       "      <td>Italy</td>\n",
       "      <td>RUSSIAN FEDERATION</td>\n",
       "      <td>MOSCOW</td>\n",
       "      <td>727792.0</td>\n",
       "      <td>720564.0</td>\n",
       "      <td>715133.0</td>\n",
       "      <td>136.0</td>\n",
       "      <td>7092.0</td>\n",
       "      <td>2014</td>\n",
       "    </tr>\n",
       "    <tr>\n",
       "      <th>4</th>\n",
       "      <td>France</td>\n",
       "      <td>RUSSIAN FEDERATION</td>\n",
       "      <td>MOSCOW</td>\n",
       "      <td>290369.0</td>\n",
       "      <td>285664.0</td>\n",
       "      <td>117259.0</td>\n",
       "      <td>331.0</td>\n",
       "      <td>4374.0</td>\n",
       "      <td>2014</td>\n",
       "    </tr>\n",
       "    <tr>\n",
       "      <th>...</th>\n",
       "      <td>...</td>\n",
       "      <td>...</td>\n",
       "      <td>...</td>\n",
       "      <td>...</td>\n",
       "      <td>...</td>\n",
       "      <td>...</td>\n",
       "      <td>...</td>\n",
       "      <td>...</td>\n",
       "      <td>...</td>\n",
       "    </tr>\n",
       "    <tr>\n",
       "      <th>2019</th>\n",
       "      <td>ITALY</td>\n",
       "      <td>ZIMBABWE</td>\n",
       "      <td>HARARE</td>\n",
       "      <td>665.0</td>\n",
       "      <td>665.0</td>\n",
       "      <td>298.0</td>\n",
       "      <td>0.0</td>\n",
       "      <td>0</td>\n",
       "      <td>2012</td>\n",
       "    </tr>\n",
       "    <tr>\n",
       "      <th>2020</th>\n",
       "      <td>NETHERLANDS</td>\n",
       "      <td>ZIMBABWE</td>\n",
       "      <td>HARARE</td>\n",
       "      <td>391.0</td>\n",
       "      <td>391.0</td>\n",
       "      <td>391.0</td>\n",
       "      <td>0.0</td>\n",
       "      <td>0</td>\n",
       "      <td>2012</td>\n",
       "    </tr>\n",
       "    <tr>\n",
       "      <th>2021</th>\n",
       "      <td>NORWAY</td>\n",
       "      <td>ZIMBABWE</td>\n",
       "      <td>HARARE</td>\n",
       "      <td>524.0</td>\n",
       "      <td>484.0</td>\n",
       "      <td>37.0</td>\n",
       "      <td>0.0</td>\n",
       "      <td>40</td>\n",
       "      <td>2012</td>\n",
       "    </tr>\n",
       "    <tr>\n",
       "      <th>2022</th>\n",
       "      <td>Portugal</td>\n",
       "      <td>ZIMBABWE</td>\n",
       "      <td>HARARE</td>\n",
       "      <td>136.0</td>\n",
       "      <td>136.0</td>\n",
       "      <td>33.0</td>\n",
       "      <td>0.0</td>\n",
       "      <td>0</td>\n",
       "      <td>2012</td>\n",
       "    </tr>\n",
       "    <tr>\n",
       "      <th>2023</th>\n",
       "      <td>SPAIN</td>\n",
       "      <td>ZIMBABWE</td>\n",
       "      <td>HARARE</td>\n",
       "      <td>292.0</td>\n",
       "      <td>278.0</td>\n",
       "      <td>21.0</td>\n",
       "      <td>0.0</td>\n",
       "      <td>2</td>\n",
       "      <td>2012</td>\n",
       "    </tr>\n",
       "  </tbody>\n",
       "</table>\n",
       "<p>18792 rows × 9 columns</p>\n",
       "</div>"
      ],
      "text/plain": [
       "     schengen_state         app_country       consulate       app  \\\n",
       "0           Finland  RUSSIAN FEDERATION  ST. PETERSBURG  914314.0   \n",
       "1             Spain  RUSSIAN FEDERATION          MOSCOW  861351.0   \n",
       "2            Greece  RUSSIAN FEDERATION          MOSCOW  768649.0   \n",
       "3             Italy  RUSSIAN FEDERATION          MOSCOW  727792.0   \n",
       "4            France  RUSSIAN FEDERATION          MOSCOW  290369.0   \n",
       "...             ...                 ...             ...       ...   \n",
       "2019          ITALY            ZIMBABWE          HARARE     665.0   \n",
       "2020    NETHERLANDS            ZIMBABWE          HARARE     391.0   \n",
       "2021        NORWAY             ZIMBABWE          HARARE     524.0   \n",
       "2022       Portugal            ZIMBABWE          HARARE     136.0   \n",
       "2023          SPAIN            ZIMBABWE          HARARE     292.0   \n",
       "\n",
       "      total_issued  mev_issued    ltv rejected  year  \n",
       "0         908145.0    895849.0   14.0   6155.0  2014  \n",
       "1         845776.0    203684.0  678.0   8531.0  2014  \n",
       "2         765508.0    304967.0    4.0   3137.0  2014  \n",
       "3         720564.0    715133.0  136.0   7092.0  2014  \n",
       "4         285664.0    117259.0  331.0   4374.0  2014  \n",
       "...            ...         ...    ...      ...   ...  \n",
       "2019         665.0       298.0    0.0        0  2012  \n",
       "2020         391.0       391.0    0.0        0  2012  \n",
       "2021         484.0        37.0    0.0       40  2012  \n",
       "2022         136.0        33.0    0.0        0  2012  \n",
       "2023         278.0        21.0    0.0        2  2012  \n",
       "\n",
       "[18792 rows x 9 columns]"
      ]
     },
     "execution_count": 19,
     "metadata": {},
     "output_type": "execute_result"
    }
   ],
   "source": [
    "df.dropna()"
   ]
  },
  {
   "cell_type": "markdown",
   "id": "3de1c455-f58c-4182-810a-77b512f1bdf8",
   "metadata": {},
   "source": [
    "Checking column types:"
   ]
  },
  {
   "cell_type": "code",
   "execution_count": 20,
   "id": "fda6f62e-8a68-49f2-bc18-db553870267c",
   "metadata": {},
   "outputs": [
    {
     "data": {
      "text/plain": [
       "schengen_state     object\n",
       "app_country        object\n",
       "consulate          object\n",
       "app               float64\n",
       "total_issued      float64\n",
       "mev_issued        float64\n",
       "ltv               float64\n",
       "rejected           object\n",
       "year                int64\n",
       "dtype: object"
      ]
     },
     "execution_count": 20,
     "metadata": {},
     "output_type": "execute_result"
    }
   ],
   "source": [
    "df.dtypes"
   ]
  },
  {
   "cell_type": "markdown",
   "id": "941d027f-2fcd-4cbb-a144-b56fffc5bbf0",
   "metadata": {},
   "source": [
    "Some numeric columns are stored as object so I will turn them into numeric:"
   ]
  },
  {
   "cell_type": "code",
   "execution_count": 21,
   "id": "c9c50c8f-7f01-4bf1-a5c8-5821b8f20ecf",
   "metadata": {},
   "outputs": [],
   "source": [
    "columns = ['rejected', 'total_issued', 'mev_issued', 'app']\n",
    "df[columns] = df[columns].apply(pd.to_numeric, errors='coerce').astype('float64')"
   ]
  },
  {
   "cell_type": "markdown",
   "id": "cbe62c74-73c6-407b-854b-1e05acb5a175",
   "metadata": {},
   "source": [
    "Just making sure that there are no empty spaces:"
   ]
  },
  {
   "cell_type": "code",
   "execution_count": 22,
   "id": "3154e572-4525-40df-84d4-0551f3925a52",
   "metadata": {},
   "outputs": [],
   "source": [
    "df['app_country']=df['app_country'].str.strip()\n",
    "df['consulate']=df['consulate'].str.strip()\n",
    "df['schengen_state'] = df['schengen_state'].str.strip()"
   ]
  },
  {
   "cell_type": "markdown",
   "id": "29031b64-74f4-4187-9aa8-2e49bcbc5867",
   "metadata": {},
   "source": [
    "Checking if there is a case mismatch:"
   ]
  },
  {
   "cell_type": "code",
   "execution_count": 23,
   "id": "72ca3b4e-2359-426c-8d0d-d7d2e8eb062b",
   "metadata": {},
   "outputs": [
    {
     "data": {
      "text/plain": [
       "array(['Finland', 'Spain', 'Greece', 'Italy', 'France', 'Czech Republic',\n",
       "       'Germany', 'Poland', 'Lithuania', 'Austria', 'Latvia',\n",
       "       'Netherlands', 'Switzerland', 'Hungary', 'Portugal', 'Estonia',\n",
       "       'Sweden', 'Slovakia', 'Norway', 'Belgium', 'Malta', 'Denmark',\n",
       "       'Slovenia', 'Luxembourg', 'Iceland', 'DENMARK', 'GERMANY', 'ITALY',\n",
       "       'NETHERLANDS', 'NORWAY', 'POLAND', 'SPAIN', 'AUSTRIA',\n",
       "       'CZECH REPUBLIC', 'GREECE', 'HUNGARY', 'SLOVENIA', 'BELGIUM',\n",
       "       'FINLAND', 'SWEDEN', 'SWITZERLAND', 'LITHUANIA', 'SLOVAKIA',\n",
       "       'ESTONIA', 'MALTA', 'LATVIA', 'ICELAND'], dtype=object)"
      ]
     },
     "execution_count": 23,
     "metadata": {},
     "output_type": "execute_result"
    }
   ],
   "source": [
    "df['schengen_state'].unique()"
   ]
  },
  {
   "cell_type": "code",
   "execution_count": 24,
   "id": "42b6cd65-ba89-4b6d-8703-09467abc542e",
   "metadata": {},
   "outputs": [
    {
     "data": {
      "text/plain": [
       "array(['Finland', 'Spain', 'Greece', 'Italy', 'France', 'Czech Republic',\n",
       "       'Germany', 'Poland', 'Lithuania', 'Austria', 'Latvia',\n",
       "       'Netherlands', 'Switzerland', 'Hungary', 'Portugal', 'Estonia',\n",
       "       'Sweden', 'Slovakia', 'Norway', 'Belgium', 'Malta', 'Denmark',\n",
       "       'Slovenia', 'Luxembourg', 'Iceland', 'DENMARK', 'GERMANY', 'ITALY',\n",
       "       'NETHERLANDS', 'NORWAY', 'POLAND', 'SPAIN', 'AUSTRIA',\n",
       "       'CZECH REPUBLIC', 'GREECE', 'HUNGARY', 'SLOVENIA', 'BELGIUM',\n",
       "       'FINLAND', 'SWEDEN', 'SWITZERLAND', 'LITHUANIA', 'SLOVAKIA',\n",
       "       'ESTONIA', 'MALTA', 'LATVIA', 'ICELAND'], dtype=object)"
      ]
     },
     "execution_count": 24,
     "metadata": {},
     "output_type": "execute_result"
    }
   ],
   "source": [
    "df['schengen_state'].unique()"
   ]
  },
  {
   "cell_type": "markdown",
   "id": "04f3dd13-55c9-4ddc-a59d-4115c8ce83ec",
   "metadata": {},
   "source": [
    "There is a case mismatch. I'll fix that:"
   ]
  },
  {
   "cell_type": "code",
   "execution_count": 25,
   "id": "a28b8475-075d-43d1-a805-e79b380ddaab",
   "metadata": {},
   "outputs": [
    {
     "data": {
      "text/plain": [
       "25"
      ]
     },
     "execution_count": 25,
     "metadata": {},
     "output_type": "execute_result"
    }
   ],
   "source": [
    "len(df['schengen_state'].str.title().unique())"
   ]
  },
  {
   "cell_type": "markdown",
   "id": "2f31abc1-7a31-4c48-bf4d-b7693783c99d",
   "metadata": {},
   "source": [
    "There are 25 schengen states excluding Liechtenstein, which is not in this dataframe. "
   ]
  },
  {
   "cell_type": "code",
   "execution_count": 26,
   "id": "6922793c-f4ef-46f7-957c-14794f5cb9a8",
   "metadata": {},
   "outputs": [],
   "source": [
    "df['schengen_state'] = df['schengen_state'].str.title()"
   ]
  },
  {
   "cell_type": "code",
   "execution_count": 27,
   "id": "b5be4486-76db-4fdf-9684-47c60660ac7f",
   "metadata": {},
   "outputs": [
    {
     "data": {
      "text/plain": [
       "array(['RUSSIAN FEDERATION', 'ALGERIA', 'UKRAINE', 'CHINA', 'BELARUS',\n",
       "       'TURKEY', 'TUNISIA', 'COLOMBIA', 'MOROCCO', 'UNITED KINGDOM',\n",
       "       'INDIA', 'UNITED ARAB EMIRATES', 'ANGOLA', 'SAUDI ARABIA', 'EGYPT',\n",
       "       'KUWAIT', 'THAILAND', 'LEBANON', 'IRAN, ISLAMIC REPUBLIC OF',\n",
       "       'NIGERIA', 'INDONESIA', 'PERU', 'KOSOVO', \"COTE D'IVOIRE\", 'QATAR',\n",
       "       'SENEGAL', 'PHILIPPINES', 'SOUTH AFRICA', 'KAZAKHSTAN',\n",
       "       'DOMINICAN REPUBLIC', 'CONGO, THE DEMOCRATIC REPUBLIC OF THE',\n",
       "       'GEORGIA', 'LIBYAN ARAB JAMAHIRIYA', 'AZERBAIJAN', 'ECUADOR',\n",
       "       'SURINAME', 'MADAGASCAR', 'ARMENIA', 'GABON', 'CAPE VERDE', 'MALI',\n",
       "       'VIET NAM', 'GUINEA', 'CAMEROON', 'BURKINA FASO', 'CUBA',\n",
       "       'MONGOLIA', 'USA', 'OMAN', 'BAHRAIN', 'BENIN', 'EQUATORIAL GUINEA',\n",
       "       'JORDAN', 'KYRGYZSTAN', 'CONGO', 'PAKISTAN', 'MOZAMBIQUE',\n",
       "       'UZBEKISTAN', 'SRI LANKA', 'SINGAPORE', 'GHANA', 'MAURITANIA',\n",
       "       'TOGO', 'IRAQ', 'HAITI', 'CHAD', 'RWANDA', 'NAMIBIA', 'NIGER',\n",
       "       'KENYA', 'CAMBODIA', 'BOLIVIA',\n",
       "       'FORMER YUGOSLAV REPUBLIC OF MACEDONIA', 'MOLDOVA, REPUBLIC OF',\n",
       "       'TURKMENISTAN', 'BANGLADESH', 'YEMEN', 'NEPAL', 'ETHIOPIA',\n",
       "       'TAJIKISTAN', 'PALESTINE', 'GUINEA-BISSAU', 'UGANDA',\n",
       "       'CENTRAL AFRICAN REPUBLIC', 'CANADA', 'BURUNDI', 'DJIBOUTI',\n",
       "       'HONG KONG S.A.R.', 'COMOROS', 'ISRAEL', 'MYANMAR',\n",
       "       'TANZANIA, UNITED REPUBLIC OF', 'SAO TOME AND PRINCIPE',\n",
       "       'AFGHANISTAN', 'TRINIDAD AND TOBAGO', 'ZAMBIA', 'CYPRUS', 'JAPAN',\n",
       "       'ERITREA', 'IRELAND', 'SUDAN', \"LAO PEOPLE'S DEMOCRATIC REPUBLIC\",\n",
       "       'AUSTRALIA', 'JAMAICA', 'SERBIA', 'BOTSWANA', 'ZIMBABWE', 'MALAWI',\n",
       "       'MALAYSIA', 'SAINT LUCIA', 'FIJI', 'PANAMA', 'BULGARIA', 'ROMANIA',\n",
       "       'TIMOR-LESTE', 'SAN MARINO', 'MACAO', 'MONTENEGRO', 'CHILE',\n",
       "       'MEXICO', 'KOREA, REPUBLIC OF', 'ARGENTINA', 'PAPUA NEW GUINEA',\n",
       "       'ALBANIA', 'VENEZUELA', 'TAIWAN, PROVINCE OF CHINA', 'NEW ZEALAND',\n",
       "       'BRAZIL', 'MAURITIUS', 'DENMARK', 'CROATIA', 'SWEDEN',\n",
       "       'SYRIAN ARAB REPUBLIC', \"KOREA, DEMOCRATIC PEOPLE'S REPUBLIC OF\",\n",
       "       'BOSNIA AND HERZEGOVINA', 'COSTA RICA', 'GUATEMALA', 'VANUATU',\n",
       "       'PUERTO RICO', 'SEYCHELLES', 'NETHERLANDS', 'ANDORRA', 'BRUNEI',\n",
       "       'GERMANY', 'SLOVAKIA', 'MALTA', 'FRANCE', 'ICELAND', 'SOUTH SUDAN',\n",
       "       'SLOVENIA', 'BHUTAN', 'NICARAGUA', 'URUGUAY', 'BELGIUM',\n",
       "       'LUXEMBOURG', 'PORTUGAL', 'EL SALVADOR', 'NORWAY', 'AUSTRIA',\n",
       "       'SWITZERLAND', 'ITALY', 'GREECE', 'SPAIN', 'PARAGUAY', 'FINLAND',\n",
       "       'HONDURAS', 'POLAND', 'LATVIA', 'CZECH REPUBLIC', 'LIBERIA',\n",
       "       'ESTONIA', 'LITHUANIA', 'MONACO', 'HOLY SEE (VATICAN CITY STATE)',\n",
       "       'HUNGARY', 'IRAN', 'SOUTH KOREA', 'TAIWAN', 'VIETNAM',\n",
       "       'CONGO (DEMOCRATIC REPUBLIC)', 'TANZANIA', 'MOLDOVA',\n",
       "       'NORTH KOREA', 'SYRIA', 'CONGO (BRAZZAVILLE)', 'LAOS',\n",
       "       'PALESTINIAN AUTHORITY', 'LIBYA', 'MACAO S.A.R.', 'HOLY SEE',\n",
       "       'NORTH MACEDONIA'], dtype=object)"
      ]
     },
     "execution_count": 27,
     "metadata": {},
     "output_type": "execute_result"
    }
   ],
   "source": [
    "df['app_country'].unique()"
   ]
  },
  {
   "cell_type": "markdown",
   "id": "f2684c3f-5b85-4d4a-b99d-d38c464bcff1",
   "metadata": {},
   "source": [
    "I want to standardise the name of the countries of the later use:"
   ]
  },
  {
   "cell_type": "code",
   "execution_count": 28,
   "id": "bdaa9b10-22f2-4fcf-9234-ed65a814c31b",
   "metadata": {},
   "outputs": [],
   "source": [
    "df['app_country'] = df['app_country'].str.lower()\n",
    "def title_except(s, exceptions):\n",
    "    word_list = re.split(' ', s)       # re.split behaves as expected\n",
    "    final = [word_list[0].capitalize()]\n",
    "    for word in word_list[1:]:\n",
    "        final.append(word if word in exceptions else word.capitalize())\n",
    "    return \" \".join(final)\n",
    "\n",
    "articles = ['and', 'of']\n",
    "df['app_country'] = df['app_country'].apply(lambda x: title_except(x, articles))"
   ]
  },
  {
   "cell_type": "code",
   "execution_count": 29,
   "id": "66b1feb8-4729-4e40-9e35-d74e08823bea",
   "metadata": {},
   "outputs": [
    {
     "data": {
      "text/plain": [
       "array(['Russian Federation', 'Algeria', 'Ukraine', 'China', 'Belarus',\n",
       "       'Turkey', 'Tunisia', 'Colombia', 'Morocco', 'United Kingdom',\n",
       "       'India', 'United Arab Emirates', 'Angola', 'Saudi Arabia', 'Egypt',\n",
       "       'Kuwait', 'Thailand', 'Lebanon', 'Iran, Islamic Republic of',\n",
       "       'Nigeria', 'Indonesia', 'Peru', 'Kosovo', \"Cote D'ivoire\", 'Qatar',\n",
       "       'Senegal', 'Philippines', 'South Africa', 'Kazakhstan',\n",
       "       'Dominican Republic', 'Congo, The Democratic Republic of The',\n",
       "       'Georgia', 'Libyan Arab Jamahiriya', 'Azerbaijan', 'Ecuador',\n",
       "       'Suriname', 'Madagascar', 'Armenia', 'Gabon', 'Cape Verde', 'Mali',\n",
       "       'Viet Nam', 'Guinea', 'Cameroon', 'Burkina Faso', 'Cuba',\n",
       "       'Mongolia', 'Usa', 'Oman', 'Bahrain', 'Benin', 'Equatorial Guinea',\n",
       "       'Jordan', 'Kyrgyzstan', 'Congo', 'Pakistan', 'Mozambique',\n",
       "       'Uzbekistan', 'Sri Lanka', 'Singapore', 'Ghana', 'Mauritania',\n",
       "       'Togo', 'Iraq', 'Haiti', 'Chad', 'Rwanda', 'Namibia', 'Niger',\n",
       "       'Kenya', 'Cambodia', 'Bolivia',\n",
       "       'Former Yugoslav Republic of Macedonia', 'Moldova, Republic of',\n",
       "       'Turkmenistan', 'Bangladesh', 'Yemen', 'Nepal', 'Ethiopia',\n",
       "       'Tajikistan', 'Palestine', 'Guinea-bissau', 'Uganda',\n",
       "       'Central African Republic', 'Canada', 'Burundi', 'Djibouti',\n",
       "       'Hong Kong S.a.r.', 'Comoros', 'Israel', 'Myanmar',\n",
       "       'Tanzania, United Republic of', 'Sao Tome and Principe',\n",
       "       'Afghanistan', 'Trinidad and Tobago', 'Zambia', 'Cyprus', 'Japan',\n",
       "       'Eritrea', 'Ireland', 'Sudan', \"Lao People's Democratic Republic\",\n",
       "       'Australia', 'Jamaica', 'Serbia', 'Botswana', 'Zimbabwe', 'Malawi',\n",
       "       'Malaysia', 'Saint Lucia', 'Fiji', 'Panama', 'Bulgaria', 'Romania',\n",
       "       'Timor-leste', 'San Marino', 'Macao', 'Montenegro', 'Chile',\n",
       "       'Mexico', 'Korea, Republic of', 'Argentina', 'Papua New Guinea',\n",
       "       'Albania', 'Venezuela', 'Taiwan, Province of China', 'New Zealand',\n",
       "       'Brazil', 'Mauritius', 'Denmark', 'Croatia', 'Sweden',\n",
       "       'Syrian Arab Republic', \"Korea, Democratic People's Republic of\",\n",
       "       'Bosnia and Herzegovina', 'Costa Rica', 'Guatemala', 'Vanuatu',\n",
       "       'Puerto Rico', 'Seychelles', 'Netherlands', 'Andorra', 'Brunei',\n",
       "       'Germany', 'Slovakia', 'Malta', 'France', 'Iceland', 'South Sudan',\n",
       "       'Slovenia', 'Bhutan', 'Nicaragua', 'Uruguay', 'Belgium',\n",
       "       'Luxembourg', 'Portugal', 'El Salvador', 'Norway', 'Austria',\n",
       "       'Switzerland', 'Italy', 'Greece', 'Spain', 'Paraguay', 'Finland',\n",
       "       'Honduras', 'Poland', 'Latvia', 'Czech Republic', 'Liberia',\n",
       "       'Estonia', 'Lithuania', 'Monaco', 'Holy See (vatican City State)',\n",
       "       'Hungary', 'Iran', 'South Korea', 'Taiwan', 'Vietnam',\n",
       "       'Congo (democratic Republic)', 'Tanzania', 'Moldova',\n",
       "       'North Korea', 'Syria', 'Congo (brazzaville)', 'Laos',\n",
       "       'Palestinian Authority', 'Libya', 'Macao S.a.r.', 'Holy See',\n",
       "       'North Macedonia'], dtype=object)"
      ]
     },
     "execution_count": 29,
     "metadata": {},
     "output_type": "execute_result"
    }
   ],
   "source": [
    "df['app_country'].unique()"
   ]
  },
  {
   "cell_type": "markdown",
   "id": "9867d40d-f70b-406c-a009-2ceac07bd0e9",
   "metadata": {},
   "source": [
    "Some country names are repeated becuase source files used sometimes the official name and sometimes the short name. I need to fix that manually:"
   ]
  },
  {
   "cell_type": "code",
   "execution_count": 30,
   "id": "624f1212-679c-4f4c-b1a4-818bc88c9e80",
   "metadata": {},
   "outputs": [],
   "source": [
    "to_be_replaced = ['Iran, Islamic Republic of','Congo, The Democratic Republic of The', 'Congo (democratic Republic)', \n",
    "                  'Congo','Congo (brazzaville)', \n",
    "                  'Moldova, Republic of', 'Libyan Arab Jamahiriya','Taiwan, Province of China', 'Macao S.a.r.', \n",
    "                  'Holy See (vatican City State)', 'Palestinian Authority', \n",
    "                  'Former Yugoslav Republic of Macedonia',\"Korea, Democratic People's Republic of\",\n",
    "                  'Korea, Republic of', \"Lao People's Democratic Republic\", \n",
    "                  \"Hong Kong S.a.r.\",  'Tanzania, United Republic of', 'Usa', 'Guinea-bissau'] \n",
    "\n",
    "to_replace = ['Iran', 'Congo DR', 'Congo DR', 'Congo-Brazzaville','Congo-Brazzaville', 'Moldova', 'Libya', 'Taiwan', 'Macao', \n",
    "'Holy See', 'Palestine', 'North Macedonia', 'North Korea', 'South Korea', 'Laos', \"Hong Kong\", 'Tanzania', 'United States', 'Guinea-Bissau']\n",
    "\n",
    "df['app_country']=df['app_country'].replace(to_be_replaced, to_replace)\n"
   ]
  },
  {
   "cell_type": "code",
   "execution_count": 31,
   "id": "37288dd3-5ed6-4562-980b-d58758cd4500",
   "metadata": {},
   "outputs": [
    {
     "data": {
      "text/plain": [
       "array(['Russian Federation', 'Algeria', 'Ukraine', 'China', 'Belarus',\n",
       "       'Turkey', 'Tunisia', 'Colombia', 'Morocco', 'United Kingdom',\n",
       "       'India', 'United Arab Emirates', 'Angola', 'Saudi Arabia', 'Egypt',\n",
       "       'Kuwait', 'Thailand', 'Lebanon', 'Iran', 'Nigeria', 'Indonesia',\n",
       "       'Peru', 'Kosovo', \"Cote D'ivoire\", 'Qatar', 'Senegal',\n",
       "       'Philippines', 'South Africa', 'Kazakhstan', 'Dominican Republic',\n",
       "       'Congo DR', 'Georgia', 'Libya', 'Azerbaijan', 'Ecuador',\n",
       "       'Suriname', 'Madagascar', 'Armenia', 'Gabon', 'Cape Verde', 'Mali',\n",
       "       'Viet Nam', 'Guinea', 'Cameroon', 'Burkina Faso', 'Cuba',\n",
       "       'Mongolia', 'United States', 'Oman', 'Bahrain', 'Benin',\n",
       "       'Equatorial Guinea', 'Jordan', 'Kyrgyzstan', 'Congo-Brazzaville',\n",
       "       'Pakistan', 'Mozambique', 'Uzbekistan', 'Sri Lanka', 'Singapore',\n",
       "       'Ghana', 'Mauritania', 'Togo', 'Iraq', 'Haiti', 'Chad', 'Rwanda',\n",
       "       'Namibia', 'Niger', 'Kenya', 'Cambodia', 'Bolivia',\n",
       "       'North Macedonia', 'Moldova', 'Turkmenistan', 'Bangladesh',\n",
       "       'Yemen', 'Nepal', 'Ethiopia', 'Tajikistan', 'Palestine',\n",
       "       'Guinea-Bissau', 'Uganda', 'Central African Republic', 'Canada',\n",
       "       'Burundi', 'Djibouti', 'Hong Kong', 'Comoros', 'Israel', 'Myanmar',\n",
       "       'Tanzania', 'Sao Tome and Principe', 'Afghanistan',\n",
       "       'Trinidad and Tobago', 'Zambia', 'Cyprus', 'Japan', 'Eritrea',\n",
       "       'Ireland', 'Sudan', 'Laos', 'Australia', 'Jamaica', 'Serbia',\n",
       "       'Botswana', 'Zimbabwe', 'Malawi', 'Malaysia', 'Saint Lucia',\n",
       "       'Fiji', 'Panama', 'Bulgaria', 'Romania', 'Timor-leste',\n",
       "       'San Marino', 'Macao', 'Montenegro', 'Chile', 'Mexico',\n",
       "       'South Korea', 'Argentina', 'Papua New Guinea', 'Albania',\n",
       "       'Venezuela', 'Taiwan', 'New Zealand', 'Brazil', 'Mauritius',\n",
       "       'Denmark', 'Croatia', 'Sweden', 'Syrian Arab Republic',\n",
       "       'North Korea', 'Bosnia and Herzegovina', 'Costa Rica', 'Guatemala',\n",
       "       'Vanuatu', 'Puerto Rico', 'Seychelles', 'Netherlands', 'Andorra',\n",
       "       'Brunei', 'Germany', 'Slovakia', 'Malta', 'France', 'Iceland',\n",
       "       'South Sudan', 'Slovenia', 'Bhutan', 'Nicaragua', 'Uruguay',\n",
       "       'Belgium', 'Luxembourg', 'Portugal', 'El Salvador', 'Norway',\n",
       "       'Austria', 'Switzerland', 'Italy', 'Greece', 'Spain', 'Paraguay',\n",
       "       'Finland', 'Honduras', 'Poland', 'Latvia', 'Czech Republic',\n",
       "       'Liberia', 'Estonia', 'Lithuania', 'Monaco', 'Holy See', 'Hungary',\n",
       "       'Vietnam', 'Syria'], dtype=object)"
      ]
     },
     "execution_count": 31,
     "metadata": {},
     "output_type": "execute_result"
    }
   ],
   "source": [
    "df['app_country'].unique()"
   ]
  },
  {
   "cell_type": "markdown",
   "id": "3fd7d10b-fe74-42e6-8ca3-f44f16b8de41",
   "metadata": {},
   "source": [
    "The \"consulate\" column is not necessary, so I'll drop it without losing any relevant data:"
   ]
  },
  {
   "cell_type": "code",
   "execution_count": 32,
   "id": "1061192b-0ad6-41f0-9e19-b65901624571",
   "metadata": {},
   "outputs": [],
   "source": [
    "df = df.groupby(['app_country','schengen_state', 'year']).sum().reset_index()"
   ]
  },
  {
   "cell_type": "markdown",
   "id": "b3413430-63e5-4de2-9403-770d276f6727",
   "metadata": {},
   "source": [
    "I want to assign alpha 2 codes for both schengen state and applicant country columns for easy merging:"
   ]
  },
  {
   "cell_type": "code",
   "execution_count": 33,
   "id": "8f95c853-5efc-47c7-9b81-5d166ea69be6",
   "metadata": {},
   "outputs": [],
   "source": [
    "input_countries = df['schengen_state']\n",
    "\n",
    "countries = {}\n",
    "for country in pycountry.countries:\n",
    "    countries[country.name] = country.alpha_2\n",
    "\n",
    "codes = [countries.get(country, 'Unknown code') for country in input_countries]"
   ]
  },
  {
   "cell_type": "code",
   "execution_count": 34,
   "id": "e412622e-9664-42d3-9a89-053ef64a1b86",
   "metadata": {},
   "outputs": [
    {
     "data": {
      "text/plain": [
       "array(['Unknown code', 'DK', 'FR', 'DE', 'IT', 'NL', 'NO', 'PL', 'ES',\n",
       "       'SE', 'AT', 'GR', 'HU', 'SI', 'BE', 'FI', 'MT', 'PT', 'CH', 'LT',\n",
       "       'SK', 'EE', 'LV', 'LU', 'IS'], dtype=object)"
      ]
     },
     "execution_count": 34,
     "metadata": {},
     "output_type": "execute_result"
    }
   ],
   "source": [
    "df['code_schengen'] = codes\n",
    "df['code_schengen'].unique()"
   ]
  },
  {
   "cell_type": "markdown",
   "id": "4dde80d4-6999-4456-a0cd-258807a93900",
   "metadata": {},
   "source": [
    "Pycountry misses some countries for some reason. I'll do Czech Republic manually:"
   ]
  },
  {
   "cell_type": "code",
   "execution_count": 35,
   "id": "9cc26d9a-c639-456e-9a02-2eb974d46032",
   "metadata": {},
   "outputs": [],
   "source": [
    "df['code_schengen'] = df['code_schengen'].replace({'Unknown code':'CZ'}, regex=False)\n"
   ]
  },
  {
   "cell_type": "code",
   "execution_count": 36,
   "id": "3c1e1724-d9e3-40cb-bfbf-abdc60a21a89",
   "metadata": {},
   "outputs": [],
   "source": [
    "input_countries = df['app_country']\n",
    "\n",
    "countries = {}\n",
    "for country in pycountry.countries:\n",
    "    countries[country.name] = country.alpha_2\n",
    "\n",
    "df['code_app'] = [countries.get(country, 'Unknown code') for country in input_countries]"
   ]
  },
  {
   "cell_type": "code",
   "execution_count": 37,
   "id": "b8e65ced-18d7-4a41-b43c-9a640f8e7848",
   "metadata": {},
   "outputs": [
    {
     "data": {
      "text/plain": [
       "array(['Bolivia', 'Brunei', 'Cape Verde', 'Congo DR', 'Congo-Brazzaville',\n",
       "       \"Cote D'ivoire\", 'Czech Republic', 'Holy See', 'Iran', 'Kosovo',\n",
       "       'Laos', 'Moldova', 'North Korea', 'Palestine', 'South Korea',\n",
       "       'Syria', 'Taiwan', 'Tanzania', 'Timor-leste', 'Venezuela',\n",
       "       'Vietnam'], dtype=object)"
      ]
     },
     "execution_count": 37,
     "metadata": {},
     "output_type": "execute_result"
    }
   ],
   "source": [
    "df[df['code_app']=='Unknown code']['app_country'].unique()"
   ]
  },
  {
   "cell_type": "markdown",
   "id": "5bf14127-4ad2-4432-acf4-4ae6570454c0",
   "metadata": {},
   "source": [
    "When it comes to the applicant country column there are more misses. \n",
    "I prepared an excel files for the missign ones. \n",
    "So, I'll merge it with the main dataframe.\n",
    "But first I'll drop Vatican, which is not necessary or relevant:"
   ]
  },
  {
   "cell_type": "code",
   "execution_count": 38,
   "id": "76511938-92bf-4ae2-b3df-1d09a8a5793e",
   "metadata": {},
   "outputs": [],
   "source": [
    "df.drop(df[df['app_country']=='Holy See'].index, inplace=True)"
   ]
  },
  {
   "cell_type": "markdown",
   "id": "6a5f7235-16c6-47aa-aeb4-35eb830e2797",
   "metadata": {},
   "source": [
    "I load the forementioned excel files with misign code and I merged it with the main dataframe:"
   ]
  },
  {
   "cell_type": "code",
   "execution_count": 39,
   "id": "0fb2ca82-9856-4b87-ba1a-cc712fd3de13",
   "metadata": {},
   "outputs": [
    {
     "name": "stdout",
     "output_type": "stream",
     "text": [
      "[]\n"
     ]
    }
   ],
   "source": [
    "codes_df = pd.read_excel(r'G:\\My Drive\\Port_drive\\visa\\lacking_alpha2.xlsx')\n",
    "merged_df = df.merge(codes_df, on='app_country', how='left')\n",
    "merged_df.loc[merged_df['code_app'] == 'Unknown code', 'code_app'] = merged_df['code']\n",
    "df = merged_df\n",
    "df = df.drop('code', axis=1)\n",
    "print(df[df['code_app']=='Unknown code']['app_country'].unique())"
   ]
  },
  {
   "cell_type": "markdown",
   "id": "1dab09c7-cce8-4e57-b802-99d5cf55404c",
   "metadata": {},
   "source": [
    "It looks looks good!"
   ]
  },
  {
   "cell_type": "code",
   "execution_count": null,
   "id": "fe811120-be4c-4796-828b-fab8245b8464",
   "metadata": {},
   "outputs": [],
   "source": [
    "df.head()"
   ]
  },
  {
   "cell_type": "markdown",
   "id": "5c79e9cf-2c51-473f-ab50-e09798519e57",
   "metadata": {},
   "source": [
    "I load a file that includes the countries that enter the Schengen zone without a visa and merged it with the main dataframe. So I can compare with the rest:"
   ]
  },
  {
   "cell_type": "code",
   "execution_count": null,
   "id": "2592ceea-31ae-4679-8754-e32907d28b30",
   "metadata": {},
   "outputs": [],
   "source": [
    "vfree = pd.read_csv(r'G:\\My Drive\\Port_drive\\visa\\visa_free2.csv', delimiter=';')\n",
    "vfree['app_country']=vfree['app_country'].str.strip()\n",
    "vfree.head()"
   ]
  },
  {
   "cell_type": "code",
   "execution_count": null,
   "id": "a9929916-05f1-416d-93a8-d079c16344d2",
   "metadata": {},
   "outputs": [],
   "source": [
    "input_countries = vfree['app_country']\n",
    "\n",
    "countries = {}\n",
    "for country in pycountry.countries:\n",
    "    countries[country.name] = country.alpha_2\n",
    "\n",
    "vfree['code_app'] = [countries.get(country, 'Unknown code') for country in input_countries]\n",
    "vfree = vfree.drop('app_country', axis=1)"
   ]
  },
  {
   "cell_type": "code",
   "execution_count": null,
   "id": "f544f1c0-8312-464e-bead-cdc6c931fe8d",
   "metadata": {},
   "outputs": [],
   "source": [
    "vfree['code_app'] = vfree['code_app'].replace({'Unknown code':'CZ'}, regex=False)"
   ]
  },
  {
   "cell_type": "code",
   "execution_count": null,
   "id": "5d93fab8-c775-456c-ac33-9cc3aa973033",
   "metadata": {},
   "outputs": [],
   "source": [
    "vfree['code_app'].unique()"
   ]
  },
  {
   "cell_type": "code",
   "execution_count": null,
   "id": "e36abdf1-2967-444e-8447-a8898e8c5e11",
   "metadata": {},
   "outputs": [],
   "source": [
    "df = pd.merge(df, vfree, how='left', on='code_app')"
   ]
  },
  {
   "cell_type": "markdown",
   "id": "3d6fd616-6282-4d92-9141-7d88c51d0d92",
   "metadata": {},
   "source": [
    "I simply assign the na values in the column that indicates the visa status as \"false\":"
   ]
  },
  {
   "cell_type": "code",
   "execution_count": null,
   "id": "cd2c65cc-ae54-4e76-b02e-8db783c15791",
   "metadata": {},
   "outputs": [],
   "source": [
    "df['visa_free'] = df['visa_free'].fillna(False)"
   ]
  },
  {
   "cell_type": "code",
   "execution_count": null,
   "id": "e4d5532f-e87c-4d44-8f78-1e10d9bbf514",
   "metadata": {},
   "outputs": [],
   "source": [
    "df.head()"
   ]
  },
  {
   "cell_type": "markdown",
   "id": "38548fe6-5668-4c28-acb7-73f3f4d9b39c",
   "metadata": {},
   "source": [
    "Next step is reading and mergin aslyum request data from Eurostat. "
   ]
  },
  {
   "cell_type": "code",
   "execution_count": null,
   "id": "accff041-9add-4543-94ea-26cb91170997",
   "metadata": {},
   "outputs": [],
   "source": [
    "asyl = pd.read_csv(r\"G:\\My Drive\\Port_drive\\visa\\migr_asyappctza_linear.csv\")"
   ]
  },
  {
   "cell_type": "code",
   "execution_count": null,
   "id": "de98f1f8-3871-4775-afc2-f64f6d1f509b",
   "metadata": {},
   "outputs": [],
   "source": [
    "asyl.head()"
   ]
  },
  {
   "cell_type": "code",
   "execution_count": null,
   "id": "e4ac081c-da56-46c2-98f5-04c21f218395",
   "metadata": {},
   "outputs": [],
   "source": [
    "asyl_orig = asyl.copy()"
   ]
  },
  {
   "cell_type": "markdown",
   "id": "419b46fc-6e20-4cf1-b37a-676af803eabe",
   "metadata": {},
   "source": [
    "dropping unnecessary columns"
   ]
  },
  {
   "cell_type": "code",
   "execution_count": null,
   "id": "143e2d22-f969-4dc4-914a-79baf7df7c01",
   "metadata": {},
   "outputs": [],
   "source": [
    "asyl = asyl[['citizen', 'sex', 'age', 'asyl_app', 'geo', 'TIME_PERIOD', 'OBS_VALUE']]"
   ]
  },
  {
   "cell_type": "markdown",
   "id": "1fb19e63-e436-4687-bf79-0fbf0c6fdc08",
   "metadata": {},
   "source": [
    "Checking and dropping na values:"
   ]
  },
  {
   "cell_type": "code",
   "execution_count": null,
   "id": "975f114b-eea8-4665-8a55-35698fa4f7a2",
   "metadata": {
    "scrolled": true
   },
   "outputs": [],
   "source": [
    "for col in asyl.columns:\n",
    "    pct_missing = (np.mean(asyl[col].isnull())*100)\n",
    "    print('{} - {}%'.format(col, pct_missing))"
   ]
  },
  {
   "cell_type": "code",
   "execution_count": null,
   "id": "60351fdd-050b-4678-82c8-15c9e0575308",
   "metadata": {},
   "outputs": [],
   "source": [
    "asyl = asyl.dropna()"
   ]
  },
  {
   "cell_type": "code",
   "execution_count": null,
   "id": "8825967d-219f-43f4-8de4-21f6d1dea82f",
   "metadata": {},
   "outputs": [],
   "source": [
    "for col in asyl.select_dtypes(include=['object']).columns:\n",
    "    print(f'{col} - {asyl[col].unique()}')"
   ]
  },
  {
   "cell_type": "markdown",
   "id": "8488120f-a2e5-401e-8880-c6a1717e8ff2",
   "metadata": {},
   "source": [
    "Eurostat uses the official code fro Greece which EL. The problem is nobody else uses that. So I replace it with \"GR\"."
   ]
  },
  {
   "cell_type": "code",
   "execution_count": null,
   "id": "736ed761-9a66-4936-b421-c6f10b762c51",
   "metadata": {},
   "outputs": [],
   "source": [
    "asyl.replace('EL', 'GR', inplace=True)"
   ]
  },
  {
   "cell_type": "markdown",
   "id": "d768f12c-1e42-4ca0-b681-a4ebb9e56ee3",
   "metadata": {},
   "source": [
    "I choose the relevant information from the asylum dataframe:"
   ]
  },
  {
   "cell_type": "code",
   "execution_count": null,
   "id": "c990a94c-4168-4030-b983-7be229bb316a",
   "metadata": {
    "scrolled": true
   },
   "outputs": [],
   "source": [
    "asyl = asyl[asyl['sex']=='T'] #all sexes\n",
    "asyl = asyl[asyl['age']=='TOTAL'] #all ages\n",
    "asyl = asyl[asyl['asyl_app']=='NASY_APP'] # first time applicants\n",
    "asyl = asyl.drop(asyl[asyl.geo=='EU27_2020'].index) # we do not need aggreated data\n",
    "asyl = asyl[~asyl['citizen'].str.contains('EU')]"
   ]
  },
  {
   "cell_type": "markdown",
   "id": "1451e3ec-7b17-4b64-9d85-7978c5196ed2",
   "metadata": {},
   "source": [
    "Choosing the relevant columns and renaming them:"
   ]
  },
  {
   "cell_type": "code",
   "execution_count": null,
   "id": "3e7cf136-4ee1-4138-a89f-16b8cfd3858c",
   "metadata": {},
   "outputs": [],
   "source": [
    "asyl = asyl[['citizen', 'geo', 'TIME_PERIOD', 'OBS_VALUE']]"
   ]
  },
  {
   "cell_type": "code",
   "execution_count": null,
   "id": "53c0b827-2360-45f7-a49e-79d2d218ae4f",
   "metadata": {},
   "outputs": [],
   "source": [
    "asyl = asyl.rename(columns={'citizen':'code_app', 'geo':'code_schengen', 'TIME_PERIOD':'year', 'OBS_VALUE':'asyl_app'})\n",
    "asyl.head()"
   ]
  },
  {
   "cell_type": "markdown",
   "id": "c09d55c0-8430-4b64-9af2-0311182aba88",
   "metadata": {},
   "source": [
    "Merging the main dataframe and the asylum dataframe:"
   ]
  },
  {
   "cell_type": "code",
   "execution_count": null,
   "id": "a06d06ea-170a-480a-92ff-a0addd326804",
   "metadata": {},
   "outputs": [],
   "source": [
    "df = pd.merge(df, asyl, on=['code_app', 'code_schengen', 'year'], how='left')"
   ]
  },
  {
   "cell_type": "code",
   "execution_count": null,
   "id": "eae76d78-3dba-45a9-99b3-37956bc8127f",
   "metadata": {},
   "outputs": [],
   "source": [
    "df.head()"
   ]
  },
  {
   "cell_type": "markdown",
   "id": "b2228f47-438e-4b51-9456-3de0548a61e5",
   "metadata": {},
   "source": [
    "Creating the key column rejection rate with the number of rejections and total applications:"
   ]
  },
  {
   "cell_type": "code",
   "execution_count": null,
   "id": "2fcd3509-d610-4297-bdcf-8f56203b40ca",
   "metadata": {},
   "outputs": [],
   "source": [
    "df['rejection_rate'] = (df['rejected']/df['app'])*100"
   ]
  },
  {
   "cell_type": "markdown",
   "id": "653ed2ee-607e-4926-b0e3-ee1c5c9c6049",
   "metadata": {},
   "source": [
    "Conducting some preliminarny correlation tests:"
   ]
  },
  {
   "cell_type": "code",
   "execution_count": null,
   "id": "861a8a63-a4bf-4cff-a3a8-e91955e955a6",
   "metadata": {},
   "outputs": [],
   "source": [
    "df2 = df[df['rejection_rate']<=100]\n",
    "df2 = df[df['visa_free']==False]\n",
    "df2 = df[df['asyl_app']<20000]"
   ]
  },
  {
   "cell_type": "code",
   "execution_count": null,
   "id": "21903088-5ee1-43ad-9bb9-e19c7193bce3",
   "metadata": {},
   "outputs": [],
   "source": [
    "df2.describe()"
   ]
  },
  {
   "cell_type": "code",
   "execution_count": null,
   "id": "1544363d-938c-416d-ae25-8c434be6cfa8",
   "metadata": {
    "scrolled": true
   },
   "outputs": [],
   "source": [
    "df2 = df.groupby(['app_country']).mean().reset_index()\n",
    "df2.head()"
   ]
  },
  {
   "cell_type": "code",
   "execution_count": null,
   "id": "9a71addb-aa04-4535-9943-9cf4eee6e403",
   "metadata": {},
   "outputs": [],
   "source": [
    "sns.scatterplot(x='rejection_rate', y='asyl_app', data=df2)\n",
    "plt.show()"
   ]
  },
  {
   "cell_type": "code",
   "execution_count": null,
   "id": "c66cc7e6-573b-4b3d-b9a4-467d6c78c148",
   "metadata": {},
   "outputs": [],
   "source": [
    "df2.corr()"
   ]
  },
  {
   "cell_type": "code",
   "execution_count": null,
   "id": "299f3e57-1b2b-4b8d-b5aa-eea4789875b5",
   "metadata": {},
   "outputs": [],
   "source": [
    "df2.describe()"
   ]
  },
  {
   "cell_type": "markdown",
   "id": "2681a5f9-69d4-471f-b9dd-a4428b83d4e5",
   "metadata": {},
   "source": [
    "Globally speaking rejection rate is not correlated with asylum requests."
   ]
  }
 ],
 "metadata": {
  "kernelspec": {
   "display_name": "Python 3 (ipykernel)",
   "language": "python",
   "name": "python3"
  },
  "language_info": {
   "codemirror_mode": {
    "name": "ipython",
    "version": 3
   },
   "file_extension": ".py",
   "mimetype": "text/x-python",
   "name": "python",
   "nbconvert_exporter": "python",
   "pygments_lexer": "ipython3",
   "version": "3.9.12"
  }
 },
 "nbformat": 4,
 "nbformat_minor": 5
}
